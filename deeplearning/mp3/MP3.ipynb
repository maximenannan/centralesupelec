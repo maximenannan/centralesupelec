{
 "cells": [
  {
   "cell_type": "markdown",
   "metadata": {},
   "source": [
    "**You may need to install [OpenCV](https://pypi.python.org/pypi/opencv-python) and [scikit-video](http://www.scikit-video.org/stable/).**"
   ]
  },
  {
   "cell_type": "code",
   "execution_count": 1,
   "metadata": {},
   "outputs": [
    {
     "name": "stderr",
     "output_type": "stream",
     "text": [
      "Using TensorFlow backend.\n"
     ]
    }
   ],
   "source": [
    "import keras\n",
    "import numpy as np\n",
    "import io\n",
    "import base64\n",
    "from IPython.display import HTML\n",
    "import skvideo.io\n",
    "import cv2\n",
    "import json\n",
    "\n",
    "from keras.models import Sequential,model_from_json\n",
    "from keras.layers.core import Dense\n",
    "from keras.optimizers import sgd\n",
    "from keras.layers import Conv2D, MaxPooling2D, Activation, AveragePooling2D,Reshape,BatchNormalization"
   ]
  },
  {
   "cell_type": "markdown",
   "metadata": {},
   "source": [
    "# MiniProject #3: Deep Reinforcement Learning"
   ]
  },
  {
   "cell_type": "markdown",
   "metadata": {},
   "source": [
    "__Notations__: $E_p$ is the expectation under probability $p$. Please justify each of your answer and widely comment your code."
   ]
  },
  {
   "cell_type": "markdown",
   "metadata": {},
   "source": [
    "# Context"
   ]
  },
  {
   "cell_type": "markdown",
   "metadata": {},
   "source": [
    "In a reinforcement learning algorithm, we modelize each step $t$ as an action $a_t$ obtained from a state $s_t$, i.e. $\\{(a_{t},s_{t})_{t\\leq T}\\}$ having the Markov property. We consider a discount factor $\\gamma \\in [0,1]$ that ensures convergence. The goal is to find among all the policies $\\pi$, one that maximizes the expected reward:\n",
    "\n",
    "\\begin{equation*}\n",
    "R(\\pi)=\\sum_{t\\leq T}E_{p^{\\pi}}[\\gamma^t r(s_{t},a_{t})] \\> ,\n",
    "\\end{equation*}\n",
    "\n",
    "where: \n",
    "\\begin{equation*}p^{\\pi}(a_{0},a_{1},s_{1},...,a_{T},s_{T})=p(a_{0})\\prod_{t=1}^{T}\\pi(a_{t}|s_{t})p(s_{t+1}|s_{t},a_{t}) \\> .\n",
    "\\end{equation*}\n",
    "\n",
    "We note the $Q$-function:\n",
    "\n",
    "\\begin{equation*}Q^\\pi(s,a)=E_{p^{\\pi}}[\\sum_{t\\leq T}\\gamma^{t}r(s_{t},a_{t})|s_{0}=s,a_{0}=a] \\> .\n",
    "\\end{equation*}\n",
    "\n",
    "Thus, the optimal Q function is:\n",
    "\\begin{equation*}\n",
    "Q^*(s,a)=\\max_{\\pi}Q^\\pi(s,a) \\> .\n",
    "\\end{equation*}\n",
    "\n",
    "In this project, we will apply the deep reinforcement learning techniques to a simple game: an agent will have to learn from scratch a policy that will permit it maximizing a reward."
   ]
  },
  {
   "cell_type": "markdown",
   "metadata": {},
   "source": [
    "## The environment, the agent and the game"
   ]
  },
  {
   "cell_type": "markdown",
   "metadata": {},
   "source": [
    "### The environment"
   ]
  },
  {
   "cell_type": "markdown",
   "metadata": {},
   "source": [
    "```Environment``` is an abstract class that represents the states, rewards, and actions to obtain the new state."
   ]
  },
  {
   "cell_type": "code",
   "execution_count": 2,
   "metadata": {},
   "outputs": [],
   "source": [
    "class Environment(object):\n",
    "    def __init__(self):\n",
    "        pass\n",
    "\n",
    "    def act(self, act):\n",
    "        \"\"\"\n",
    "        One can act on the environment and obtain its reaction:\n",
    "        - the new state\n",
    "        - the reward of the new state\n",
    "        - should we continue the game?\n",
    "\n",
    "        :return: state, reward, game_over\n",
    "        \"\"\"\n",
    "        pass\n",
    "\n",
    "\n",
    "    def reset(self):\n",
    "        \"\"\"\n",
    "        Reinitialize the environment to a random state and returns\n",
    "        the original state\n",
    "\n",
    "        :return: state\n",
    "        \"\"\"\n",
    "        pass\n",
    "    \n",
    "    def draw(self):\n",
    "        \"\"\"\n",
    "        Visualize in the console or graphically the current state\n",
    "        \"\"\"\n",
    "        pass"
   ]
  },
  {
   "cell_type": "markdown",
   "metadata": {},
   "source": [
    "The method ```act``` allows to act on the environment at a given state $s_t$ (stored internally), via action $a_t$. The method will return the new state $s_{t+1}$, the reward $r(s_{t},a_{t})$ and determines if $t\\leq T$ (*game_over*).\n",
    "\n",
    "The method ```reset``` simply reinitializes the environment to a random state $s_0$.\n",
    "\n",
    "The method ```draw``` displays the current state $s_t$ (this is useful to check the behavior of the Agent).\n",
    "\n",
    "We modelize $s_t$ as a tensor, while $a_t$ is an integer."
   ]
  },
  {
   "cell_type": "markdown",
   "metadata": {},
   "source": [
    "### The Agent"
   ]
  },
  {
   "cell_type": "markdown",
   "metadata": {},
   "source": [
    "The goal of the ```Agent``` is to interact with the ```Environment``` by proposing actions $a_t$ obtained from a given state $s_t$ to attempt to maximize its __reward__ $r(s_t,a_t)$. We propose the following abstract class:"
   ]
  },
  {
   "cell_type": "code",
   "execution_count": 3,
   "metadata": {},
   "outputs": [],
   "source": [
    "class Agent(object):\n",
    "    def __init__(self, epsilon=0.1, n_action=4):\n",
    "        self.epsilon = epsilon\n",
    "        self.n_action = n_action\n",
    "    \n",
    "    def set_epsilon(self,e):\n",
    "        self.epsilon = e\n",
    "\n",
    "    def act(self,s,train=True):\n",
    "        \"\"\" This function should return the next action to do:\n",
    "        an integer between 0 and 4 (not included) with a random exploration of epsilon\"\"\"\n",
    "        if train:\n",
    "            if np.random.rand() <= self.epsilon:\n",
    "                a = np.random.randint(0, self.n_action, size=1)[0]\n",
    "            else:\n",
    "                a = self.learned_act(s)\n",
    "        else: # in some cases, this can improve the performance.. remove it if poor performances\n",
    "            a = self.learned_act(s)\n",
    "\n",
    "        return a\n",
    "\n",
    "    def learned_act(self,s):\n",
    "        \"\"\" Act via the policy of the agent, from a given state s\n",
    "        it proposes an action a\"\"\"\n",
    "        pass\n",
    "\n",
    "    def reinforce(self, s, n_s, a, r, game_over_):\n",
    "        \"\"\" This function is the core of the learning algorithm. \n",
    "        It takes as an input the current state s_, the next state n_s_\n",
    "        the action a_ used to move from s_ to n_s_ and the reward r_.\n",
    "        \n",
    "        Its goal is to learn a policy.\n",
    "        \"\"\"\n",
    "        pass\n",
    "\n",
    "    def save(self):\n",
    "        \"\"\" This function returns basic stats if applicable: the\n",
    "        loss and/or the model\"\"\"\n",
    "        pass\n",
    "\n",
    "    def load(self):\n",
    "        \"\"\" This function allows to restore a model\"\"\"\n",
    "        pass"
   ]
  },
  {
   "cell_type": "markdown",
   "metadata": {},
   "source": [
    "***\n",
    "__Question 1__:\n",
    "Explain the function act. Why is ```epsilon``` essential?"
   ]
  },
  {
   "cell_type": "markdown",
   "metadata": {},
   "source": [
    "> The function `act` aims to given a state returns an act. It represents the policy of the agent and either returns an action according to the policy we learned or returns a random action.\n",
    "\n",
    "> Epsilon is essential is order not to be stucked in a local minimum while optimizing our policy. It allows the agent to explore the environment."
   ]
  },
  {
   "cell_type": "markdown",
   "metadata": {},
   "source": [
    "***\n",
    "### The Game"
   ]
  },
  {
   "cell_type": "markdown",
   "metadata": {},
   "source": [
    "The ```Agent``` and the ```Environment``` work in an interlaced way as in the following (take some time to understand this code as it is the core of the project)\n",
    "\n",
    "```python\n",
    "\n",
    "epoch = 300\n",
    "env = Environment()\n",
    "agent = Agent()\n",
    "\n",
    "\n",
    "# Number of won games\n",
    "score = 0\n",
    "loss = 0\n",
    "\n",
    "\n",
    "for e in range(epoch):\n",
    "    # At each epoch, we restart to a fresh game and get the initial state\n",
    "    state = env.reset()\n",
    "    # This assumes that the games will end\n",
    "    game_over = False\n",
    "\n",
    "    win = 0\n",
    "    lose = 0\n",
    "    \n",
    "    while not game_over:\n",
    "        # The agent performs an action\n",
    "        action = agent.act(state)\n",
    "\n",
    "        # Apply an action to the environment, get the next state, the reward\n",
    "        # and if the games end\n",
    "        prev_state = state\n",
    "        state, reward, game_over = env.act(action)\n",
    "\n",
    "        # Update the counters\n",
    "        if reward > 0:\n",
    "            win = win + reward\n",
    "        if reward < 0:\n",
    "            lose = lose -reward\n",
    "\n",
    "        # Apply the reinforcement strategy\n",
    "        loss = agent.reinforce(prev_state, state,  action, reward, game_over)\n",
    "\n",
    "    # Save as a mp4\n",
    "    if e % 10 == 0:\n",
    "        env.draw(e)\n",
    "\n",
    "    # Update stats\n",
    "    score += win-lose\n",
    "\n",
    "    print(\"Epoch {:03d}/{:03d} | Loss {:.4f} | Win/lose count {}/{} ({})\"\n",
    "          .format(e, epoch, loss, win, lose, win-lose))\n",
    "    agent.save()\n",
    "```"
   ]
  },
  {
   "cell_type": "markdown",
   "metadata": {},
   "source": [
    "# The game, *eat cheese*"
   ]
  },
  {
   "cell_type": "markdown",
   "metadata": {},
   "source": [
    "A rat runs on an island and tries to eat as much as possible. The island is subdivided into $N\\times N$ cells, in which there are cheese (+0.5) and poisonous cells (-1). The rat has a visibility of 2 cells (thus it can see $5^2$ cells). The rat is given a time $T$ to accumulate as much food as possible. It can perform 4 actions: going up, down, left, right. \n",
    "\n",
    "The goal is to code an agent to solve this task that will learn by trial and error. We propose the following environment:"
   ]
  },
  {
   "cell_type": "code",
   "execution_count": 4,
   "metadata": {},
   "outputs": [],
   "source": [
    "class Environment(object):\n",
    "    def __init__(self, grid_size=10, max_time=500, temperature=0.1):\n",
    "        grid_size = grid_size+4\n",
    "        self.grid_size = grid_size\n",
    "        self.max_time = max_time\n",
    "        self.temperature = temperature\n",
    "\n",
    "        #board on which one plays\n",
    "        self.board = np.zeros((grid_size,grid_size))\n",
    "        self.position = np.zeros((grid_size,grid_size))\n",
    "\n",
    "        # coordinate of the cat\n",
    "        self.x = 0\n",
    "        self.y = 1\n",
    "\n",
    "        # self time\n",
    "        self.t = 0\n",
    "\n",
    "        self.scale=16\n",
    "\n",
    "        self.to_draw = np.zeros((max_time+2, grid_size*self.scale, grid_size*self.scale, 3))\n",
    "\n",
    "\n",
    "    def draw(self,e):\n",
    "        skvideo.io.vwrite(str(e) + '.mp4', self.to_draw)\n",
    "\n",
    "    def get_frame(self,t):\n",
    "        b = np.zeros((self.grid_size,self.grid_size,3))+128\n",
    "        b[self.board>0,0] = 256\n",
    "        b[self.board < 0, 2] = 256\n",
    "        b[self.x,self.y,:]=256\n",
    "        b[-2:,:,:]=0\n",
    "        b[:,-2:,:]=0\n",
    "        b[:2,:,:]=0\n",
    "        b[:,:2,:]=0\n",
    "        \n",
    "        b =  cv2.resize(b, None, fx=self.scale, fy=self.scale, interpolation=cv2.INTER_NEAREST)\n",
    "\n",
    "        self.to_draw[t,:,:,:]=b\n",
    "\n",
    "\n",
    "    def act(self, action):\n",
    "        \"\"\"This function returns the new state, reward and decides if the\n",
    "        game ends.\"\"\"\n",
    "\n",
    "        self.get_frame(int(self.t))\n",
    "\n",
    "        self.position = np.zeros((self.grid_size, self.grid_size))\n",
    "\n",
    "        self.position[0:2,:]= -1\n",
    "        self.position[:,0:2] = -1\n",
    "        self.position[-2:, :] = -1\n",
    "        self.position[-2:, :] = -1\n",
    "\n",
    "        self.position[self.x, self.y] = 1\n",
    "        if action == 0:\n",
    "            if self.x == self.grid_size-3:\n",
    "                self.x = self.x-1\n",
    "            else:\n",
    "                self.x = self.x + 1\n",
    "        elif action == 1:\n",
    "            if self.x == 2:\n",
    "                self.x = self.x+1\n",
    "            else:\n",
    "                self.x = self.x-1\n",
    "        elif action == 2:\n",
    "            if self.y == self.grid_size - 3:\n",
    "                self.y = self.y - 1\n",
    "            else:\n",
    "                self.y = self.y + 1\n",
    "        elif action == 3:\n",
    "            if self.y == 2:\n",
    "                self.y = self.y + 1\n",
    "            else:\n",
    "                self.y = self.y - 1\n",
    "        else:\n",
    "            RuntimeError('Error: action not recognized')\n",
    "\n",
    "        self.t = self.t + 1\n",
    "        reward = self.board[self.x, self.y]\n",
    "        self.board[self.x, self.y] = 0\n",
    "        game_over = self.t > self.max_time\n",
    "        state = np.concatenate((self.board.reshape(self.grid_size, self.grid_size,1),\n",
    "                        self.position.reshape(self.grid_size, self.grid_size,1)),axis=2)\n",
    "        state = state[self.x-2:self.x+3,self.y-2:self.y+3,:]\n",
    "\n",
    "        return state, reward, game_over\n",
    "\n",
    "    def reset(self):\n",
    "        \"\"\"This function resets the game and returns the initial state\"\"\"\n",
    "\n",
    "        self.x = np.random.randint(3, self.grid_size-3, size=1)[0]\n",
    "        self.y = np.random.randint(3, self.grid_size-3, size=1)[0]\n",
    "\n",
    "\n",
    "        bonus = 0.5*np.random.binomial(1,self.temperature,size=self.grid_size**2)\n",
    "        bonus = bonus.reshape(self.grid_size,self.grid_size)\n",
    "\n",
    "        malus = -1.0*np.random.binomial(1,self.temperature,size=self.grid_size**2)\n",
    "        malus = malus.reshape(self.grid_size, self.grid_size)\n",
    "\n",
    "        self.to_draw = np.zeros((self.max_time+2, self.grid_size*self.scale, self.grid_size*self.scale, 3))\n",
    "\n",
    "\n",
    "        malus[bonus>0]=0\n",
    "\n",
    "        self.board = bonus + malus\n",
    "\n",
    "        self.position = np.zeros((self.grid_size, self.grid_size))\n",
    "        self.position[0:2,:]= -1\n",
    "        self.position[:,0:2] = -1\n",
    "        self.position[-2:, :] = -1\n",
    "        self.position[-2:, :] = -1\n",
    "        self.board[self.x,self.y] = 0\n",
    "        self.t = 0\n",
    "\n",
    "        state = np.concatenate((\n",
    "                               self.board.reshape(self.grid_size, self.grid_size,1),\n",
    "                        self.position.reshape(self.grid_size, self.grid_size,1)),axis=2)\n",
    "\n",
    "        state = state[self.x - 2:self.x + 3, self.y - 2:self.y + 3, :]\n",
    "        return state"
   ]
  },
  {
   "cell_type": "markdown",
   "metadata": {},
   "source": [
    "The following elements are important because they correspond to the hyper parameters for this project:"
   ]
  },
  {
   "cell_type": "code",
   "execution_count": 5,
   "metadata": {},
   "outputs": [],
   "source": [
    "# parameters\n",
    "size = 13\n",
    "T=200\n",
    "temperature=0.3\n",
    "epochs_train=50 # set small when debugging\n",
    "epochs_test=10 # set small when debugging\n",
    "\n",
    "# display videos\n",
    "def display_videos(name):\n",
    "    video = io.open(name, 'r+b').read()\n",
    "    encoded = base64.b64encode(video)\n",
    "    return '''<video alt=\"test\" controls>\n",
    "                <source src=\"data:video/mp4;base64,{0}\" type=\"video/mp4\" />\n",
    "             </video>'''.format(encoded.decode('ascii'))"
   ]
  },
  {
   "cell_type": "markdown",
   "metadata": {},
   "source": [
    "__Question 2__ Explain the use of the arrays ```position``` and ```board```."
   ]
  },
  {
   "cell_type": "markdown",
   "metadata": {},
   "source": [
    "`position` is matrix where there is a: \n",
    "\n",
    "    - -1 where on cells that cannot be reached (limits of the environment)\n",
    "    - 0 on cells that can be reached \n",
    "    - 1 on the previous cell\n",
    "    \n",
    " `board` is a matrix where there are the remaining malus and bonus:\n",
    " \n",
    "    - 0.5 on cells where there is still a piece of cheese\n",
    "    - -1 on cells where there is poison\n",
    "    - 0 where there is nothing"
   ]
  },
  {
   "cell_type": "markdown",
   "metadata": {},
   "source": [
    "## Random Agent"
   ]
  },
  {
   "cell_type": "markdown",
   "metadata": {},
   "source": [
    "***\n",
    "__Question 3__ Implement a random Agent (only ```learned_act``` needs to be implemented):"
   ]
  },
  {
   "cell_type": "code",
   "execution_count": 6,
   "metadata": {},
   "outputs": [],
   "source": [
    "class RandomAgent(Agent):\n",
    "    def __init__(self):\n",
    "        super(RandomAgent, self).__init__()\n",
    "        pass\n",
    "\n",
    "    def learned_act(self, s):\n",
    "        np.random.randint(0,4)"
   ]
  },
  {
   "cell_type": "markdown",
   "metadata": {},
   "source": [
    "***\n",
    "***\n",
    "__Question 4__ Visualize the game moves. You need to fill in the following function for the evaluation:"
   ]
  },
  {
   "cell_type": "code",
   "execution_count": 7,
   "metadata": {},
   "outputs": [],
   "source": [
    "def test(agent,env,epochs,prefix=''):\n",
    "    # Number of won games\n",
    "    score = 0\n",
    "        \n",
    "    for e in range(epochs):\n",
    "        \n",
    "        # At each epoch, we restart to a fresh game and get the initial state\n",
    "        state = env.reset()\n",
    "        # This assumes that the games will end\n",
    "        game_over = False\n",
    "\n",
    "        win = 0\n",
    "        lose = 0\n",
    "\n",
    "        while not game_over:\n",
    "            # The agent performs an action\n",
    "            action = agent.act(state)\n",
    "\n",
    "            # Apply an action to the environment, get the next state, the reward\n",
    "            # and if the games end\n",
    "            prev_state = state\n",
    "            state, reward, game_over = env.act(action)\n",
    "\n",
    "            # Update the counters\n",
    "            if reward > 0:\n",
    "                win = win + reward\n",
    "            if reward < 0:\n",
    "                lose = lose -reward\n",
    "\n",
    "        # Apply the reinforcement strategy\n",
    "        loss = agent.reinforce(prev_state, state,  action, reward, game_over)\n",
    "\n",
    "        \n",
    "        # Save as a mp4\n",
    "        env.draw(prefix+str(e))\n",
    "\n",
    "        # Update stats\n",
    "        score = score + win-lose\n",
    "\n",
    "        print(\"Win/lose count {}/{}. Average score ({})\"\n",
    "              .format(win, lose, score/(1+e)))\n",
    "    print('Final score: '+str(score/epochs))"
   ]
  },
  {
   "cell_type": "code",
   "execution_count": 8,
   "metadata": {},
   "outputs": [
    {
     "name": "stdout",
     "output_type": "stream",
     "text": [
      "Win/lose count 1.5/0. Average score (1.5)\n",
      "Win/lose count 2.0/3.0. Average score (0.25)\n",
      "Win/lose count 2.0/2.0. Average score (0.16666666666666666)\n",
      "Win/lose count 3.5/1.0. Average score (0.75)\n",
      "Win/lose count 2.0/5.0. Average score (0.0)\n",
      "Win/lose count 1.5/1.0. Average score (0.08333333333333333)\n",
      "Win/lose count 1.0/2.0. Average score (-0.07142857142857142)\n",
      "Win/lose count 1.5/4.0. Average score (-0.375)\n",
      "Win/lose count 1.5/4.0. Average score (-0.6111111111111112)\n",
      "Win/lose count 1.0/0. Average score (-0.45)\n",
      "Final score: -0.45\n"
     ]
    },
    {
     "data": {
      "text/html": [
       "<video alt=\"test\" controls>\n",
       "                <source src=\"data:video/mp4;base64,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\" type=\"video/mp4\" />\n",
       "             </video>"
      ],
      "text/plain": [
       "<IPython.core.display.HTML object>"
      ]
     },
     "execution_count": 8,
     "metadata": {},
     "output_type": "execute_result"
    }
   ],
   "source": [
    "# Initialize the game\n",
    "env = Environment(grid_size=size, max_time=T,temperature=temperature)\n",
    "\n",
    "# Initialize the agent!\n",
    "agent = RandomAgent()\n",
    "\n",
    "test(agent,env,10,prefix='random')\n",
    "HTML(display_videos('random0.mp4'))"
   ]
  },
  {
   "cell_type": "markdown",
   "metadata": {},
   "source": [
    "***\n",
    "## DQN"
   ]
  },
  {
   "cell_type": "markdown",
   "metadata": {},
   "source": [
    "Let us assume here that $T=\\infty$.\n",
    "\n",
    "***\n",
    "__Question 5__ Let $\\pi$ be a policy, show that:\n",
    "\n",
    "\\begin{equation*}\n",
    "Q^{\\pi}(s,a)=E_{(s',a')\\sim p(.|s,a)}[r(s,a)+\\gamma Q^{\\pi}(s',a')]\n",
    "\\end{equation*}\n",
    "\n",
    "Then, show that for the optimal policy $\\pi^*$ (we assume its existence), the following holds: \n",
    "\n",
    "\\begin{equation*}\n",
    "Q^{*}(s,a)=E_{s'\\sim \\pi^*(.|s,a)}[r(s,a)+\\gamma\\max_{a'}Q^{*}(s',a')].\n",
    "\\end{equation*}\n",
    "Finally, deduce that a plausible objective is:\n",
    "\n",
    "\\begin{equation*}\n",
    "\\mathcal{L}(\\theta)=E_{s' \\sim \\pi^*(.|s,a)}\\Vert r+\\gamma\\max\\max_{a'}Q(s',a',\\theta)-Q(s,a,\\theta)\\Vert^{2}.\n",
    "\\end{equation*}\n",
    "\n",
    "\n"
   ]
  },
  {
   "cell_type": "markdown",
   "metadata": {},
   "source": [
    "### Prooving that $ Q^{\\pi}(s,a) = \\mathbb{E}_{(s', a') \\approx p(.| (s,a))} [r(s, a) + \\gamma Q^{\\pi}(s',a')]$"
   ]
  },
  {
   "cell_type": "markdown",
   "metadata": {},
   "source": [
    "\\begin{equation*}\n",
    "Q^{\\pi}(s,a) = \\mathbb{E}_{(a_1, s_1, ... a_T, s_T)\\sim p(.|(s,a))}[\\sum_{t \\leq T}\\gamma^t r(s_t, a_t)] \n",
    "\\end{equation*}\n",
    "\n",
    "(bayes formula and the fact p is a markov chain) $\\implies p(a_1, s_1, ... a_T, s_T |(s,a)) = p(a_2, s_2, ... a_T, s_T |(s1,a1, s,a))*p(a_1, s_1 | s,a) = p(a_2, s_2, ... a_T, s_T |(s1,a1))*p(a_1, s_1 | s,a)$\n",
    "\n",
    "\\begin{equation*}\n",
    "= \\mathbb{E}_{(s', a') \\sim p(a_1=a', s_1=s' | (s,a))}[\\mathbb{E}_{(a_2, s_2, ... a_T, s_T) \\sim p(.|(a_1=a', s_1=s'))}[r(s, a) + \\gamma \\sum_{t \\leq T}\\gamma^t r(s_t, a_t)]]\n",
    "\\end{equation*}\n",
    "\n",
    "(r(s, a) only depends on $(s', a')$ so it can be removed from the second sum\n",
    "\\begin{equation*}\n",
    " = \\mathbb{E}_{(s', a') \\sim p(a_1=a', s_1=s' | (s,a))} [r(s, a) + \\gamma Q^{\\pi}(s',a')]\n",
    "\\end{equation*}\n",
    "\n",
    "Finally, $ Q^{\\pi}(s,a) = \\mathbb{E}_{(s', a') \\sim p(.| (s,a))} [r(s, a) + \\gamma Q^{\\pi}(s',a')]$\n"
   ]
  },
  {
   "cell_type": "markdown",
   "metadata": {},
   "source": [
    "### Prooving that $ Q^{*}(s,a)=E_{s'\\sim \\pi^*(.|s,a)}[r(s,a)+\\gamma\\max_{a'}Q^{*}(s',a')].$"
   ]
  },
  {
   "cell_type": "markdown",
   "metadata": {},
   "source": [
    "$Q^*(s,a) = Q^{\\pi^*}(s,a)$, but the optimal policy is a greedy policy that's why $(s',a') \\sim p(.|s,a)$ becomes $s' \\sim \\pi^*(.|s,a)$ and the chosen action a' is the one that maximizes $Q^*(s', a')$\n",
    "\n",
    "So $Q^*(s,a) = E_{s'\\sim \\pi^*(.|s,a)}[r(s,a)+\\gamma\\max_{a'}Q^{*}(s',a')]$"
   ]
  },
  {
   "cell_type": "markdown",
   "metadata": {},
   "source": [
    "***\n",
    "The DQN-learning algorithm relies on these derivations to train the parameters $\\theta$ of a Deep Neural Network:\n",
    "\n",
    "1. At the state $s_t$, select the action $a_t$ with best reward using $Q_t$ and store the results;\n",
    "\n",
    "2. Obtain the new state $s_{t+1}$ from the environment $p$;\n",
    "\n",
    "3. Store $(s_t,a_t,s_{t+1})$;\n",
    "\n",
    "4. Obtain $Q_{t+1}$ by minimizing  $\\mathcal{L}$ from a recovered batch from the previously stored results.\n",
    "\n",
    "***\n",
    "__Question 6__ Implement the class ```Memory``` that stores moves (in a replay buffer) via ```remember``` and provides a ```random_access``` to these. Specify a maximum memory size to avoid side effects. You can for example use a ```list()``` and set by default ```max_memory=100```."
   ]
  },
  {
   "cell_type": "code",
   "execution_count": 9,
   "metadata": {},
   "outputs": [],
   "source": [
    "class Memory(object):\n",
    "    def __init__(self, max_memory=100):\n",
    "        self.max_memory = max_memory\n",
    "        self.memory = list()\n",
    "\n",
    "    def remember(self, m):\n",
    "        self.memory.append(m)\n",
    "        self.memory = self.memory[-self.max_memory:]\n",
    "\n",
    "    def random_access(self):\n",
    "        return self.memory[np.random.randint(0, len(self.memory))]"
   ]
  },
  {
   "cell_type": "markdown",
   "metadata": {},
   "source": [
    "***\n",
    "The pipeline we will use for training is given below:"
   ]
  },
  {
   "cell_type": "code",
   "execution_count": 10,
   "metadata": {},
   "outputs": [],
   "source": [
    "def train(agent,env,epoch,prefix=''):\n",
    "    # Number of won games\n",
    "    score = 0\n",
    "    loss = 0\n",
    "\n",
    "    for e in range(epoch):\n",
    "        # At each epoch, we restart to a fresh game and get the initial state\n",
    "        state = env.reset()\n",
    "        # This assumes that the games will terminate\n",
    "        game_over = False\n",
    "\n",
    "        win = 0\n",
    "        lose = 0\n",
    "\n",
    "        while not game_over:\n",
    "            # The agent performs an action\n",
    "            action = agent.act(state)\n",
    "            # Apply an action to the environment, get the next state, the reward\n",
    "            # and if the games end\n",
    "            prev_state = state\n",
    "            state, reward, game_over = env.act(action)\n",
    "\n",
    "            # Update the counters\n",
    "            if reward > 0:\n",
    "                win = win + reward\n",
    "            if reward < 0:\n",
    "                lose = lose - reward\n",
    "\n",
    "            # Apply the reinforcement strategy\n",
    "            loss = agent.reinforce(prev_state, state,  action, reward, game_over)\n",
    "\n",
    "        # Save as a mp4\n",
    "        if e % 10 == 0:\n",
    "            env.draw(prefix+str(e))\n",
    "\n",
    "        # Update stats\n",
    "        score += win-lose\n",
    "\n",
    "        print(\"Epoch {:03d}/{:03d} | Loss {:.4f} | Win/lose count {}/{} ({})\"\n",
    "              .format(e, epoch, loss, win, lose, win-lose))\n",
    "        agent.save(name_weights=prefix+'model.h5',name_model=prefix+'model.json')"
   ]
  },
  {
   "cell_type": "markdown",
   "metadata": {},
   "source": [
    "***\n",
    "__Question 7__ Implement the DQN training algorithm using a cascade of fully connected layers. You can use different learning rate, batch size or memory size parameters. In particular, the loss might oscillate while the player will start to win the games. You have to find a good criterium."
   ]
  },
  {
   "cell_type": "code",
   "execution_count": 11,
   "metadata": {},
   "outputs": [],
   "source": [
    "class DQN(Agent):\n",
    "    def __init__(self, grid_size,  epsilon = 0.1, memory_size=100, batch_size = 16,n_state=2):\n",
    "        super(DQN, self).__init__(epsilon = epsilon)\n",
    "\n",
    "        # Discount for Q learning\n",
    "        self.discount = 0.99\n",
    "        \n",
    "        self.grid_size = grid_size\n",
    "        \n",
    "        # number of state\n",
    "        self.n_state = n_state\n",
    "\n",
    "        # Memory\n",
    "        self.memory = Memory(memory_size)\n",
    "        \n",
    "        # Batch size when learning\n",
    "        self.batch_size = batch_size\n",
    "\n",
    "    def learned_act(self, s):\n",
    "        prediction = self.model.predict(s.reshape([1, *s.shape]))[0]\n",
    "        return np.argmax(prediction)\n",
    "\n",
    "    def reinforce(self, s_, n_s_, a_, r_, game_over_):\n",
    "        # Two steps: first memorize the states, second learn from the pool\n",
    "\n",
    "        self.memory.remember([s_, n_s_, a_, r_, game_over_])\n",
    "        \n",
    "        input_states = np.zeros((self.batch_size, 5, 5, self.n_state))\n",
    "        target_q = np.zeros((self.batch_size, 4))\n",
    "                \n",
    "        for i in range(self.batch_size):\n",
    "            s_, n_s_, a_, r_, game_over_ = self.memory.random_access()\n",
    "            \n",
    "            input_states[i] = s_\n",
    "            target_q[i] = self.model.predict(np.expand_dims(s_, axis=0))\n",
    "            \n",
    "            if game_over_:\n",
    "                target_q[i][a_] = r_  \n",
    "            else:\n",
    "                target_q[i][a_] = r_ + self.discount*np.max(self.model.predict(np.expand_dims(n_s_, axis=0)))\n",
    "\n",
    "        # HINT: Clip the target to avoid exploiding gradients.. -- clipping is a bit tighter\n",
    "        target_q = np.clip(target_q, -3, 3)\n",
    "\n",
    "        l = self.model.train_on_batch(input_states, target_q)\n",
    "\n",
    "\n",
    "        return l\n",
    "\n",
    "    def save(self,name_weights='model.h5',name_model='model.json'):\n",
    "        self.model.save_weights(name_weights, overwrite=True)\n",
    "        with open(name_model, \"w\") as outfile:\n",
    "            json.dump(self.model.to_json(), outfile)\n",
    "            \n",
    "    def load(self,name_weights='model.h5',name_model='model.json'):\n",
    "        with open(name_model, \"r\") as jfile:\n",
    "            model = model_from_json(json.load(jfile))\n",
    "        model.load_weights(name_weights)\n",
    "        model.compile(\"sgd\", \"mse\")\n",
    "        self.model = model\n",
    "\n",
    "            \n",
    "class DQN_FC(DQN):\n",
    "    def __init__(self, *args, lr=0.1,**kwargs):\n",
    "        super(DQN_FC, self).__init__( *args,**kwargs)\n",
    "        \n",
    "        fc1 = 50\n",
    "        fc2 = 200\n",
    "        fc3 = 500\n",
    "        output_size = 4\n",
    "        model = Sequential([\n",
    "            Dense(fc1, input_shape=(5, 5, self.n_state,), activation = 'relu'),\n",
    "            keras.layers.Flatten(),\n",
    "            Dense(fc2, activation = 'relu'),\n",
    "            Dense(fc3, activation = 'relu'),\n",
    "            Dense(output_size)\n",
    "        ])\n",
    "        \n",
    "        model.compile(sgd(lr=lr, decay=1e-4, momentum=0.0), \"mse\")\n",
    "        self.model = model\n",
    "        "
   ]
  },
  {
   "cell_type": "code",
   "execution_count": 12,
   "metadata": {},
   "outputs": [
    {
     "name": "stdout",
     "output_type": "stream",
     "text": [
      "Epoch 000/050 | Loss 0.0019 | Win/lose count 3.0/6.0 (-3.0)\n",
      "Epoch 001/050 | Loss 0.0058 | Win/lose count 4.0/6.0 (-2.0)\n",
      "Epoch 002/050 | Loss 0.0021 | Win/lose count 4.0/3.0 (1.0)\n",
      "Epoch 003/050 | Loss 0.0033 | Win/lose count 2.0/5.0 (-3.0)\n",
      "Epoch 004/050 | Loss 0.0032 | Win/lose count 3.5/3.0 (0.5)\n",
      "Epoch 005/050 | Loss 0.0505 | Win/lose count 1.5/3.0 (-1.5)\n",
      "Epoch 006/050 | Loss 0.0519 | Win/lose count 1.5/0 (1.5)\n",
      "Epoch 007/050 | Loss 0.0558 | Win/lose count 3.0/2.0 (1.0)\n",
      "Epoch 008/050 | Loss 0.0015 | Win/lose count 3.5/1.0 (2.5)\n",
      "Epoch 009/050 | Loss 0.0032 | Win/lose count 1.5/2.0 (-0.5)\n",
      "Epoch 010/050 | Loss 0.0011 | Win/lose count 5.0/1.0 (4.0)\n",
      "Epoch 011/050 | Loss 0.0493 | Win/lose count 1.5/4.0 (-2.5)\n",
      "Epoch 012/050 | Loss 0.0016 | Win/lose count 7.5/1.0 (6.5)\n",
      "Epoch 013/050 | Loss 0.0044 | Win/lose count 3.5/3.0 (0.5)\n",
      "Epoch 014/050 | Loss 0.0027 | Win/lose count 5.0/1.0 (4.0)\n",
      "Epoch 015/050 | Loss 0.0055 | Win/lose count 5.0/4.0 (1.0)\n",
      "Epoch 016/050 | Loss 0.0081 | Win/lose count 5.0/3.0 (2.0)\n",
      "Epoch 017/050 | Loss 0.0014 | Win/lose count 3.5/7.0 (-3.5)\n",
      "Epoch 018/050 | Loss 0.0075 | Win/lose count 9.0/6.0 (3.0)\n",
      "Epoch 019/050 | Loss 0.0042 | Win/lose count 7.0/5.0 (2.0)\n",
      "Epoch 020/050 | Loss 0.0017 | Win/lose count 11.0/4.0 (7.0)\n",
      "Epoch 021/050 | Loss 0.0034 | Win/lose count 15.5/2.0 (13.5)\n",
      "Epoch 022/050 | Loss 0.0010 | Win/lose count 12.5/3.0 (9.5)\n",
      "Epoch 023/050 | Loss 0.0021 | Win/lose count 19.5/5.0 (14.5)\n",
      "Epoch 024/050 | Loss 0.0027 | Win/lose count 14.5/2.0 (12.5)\n",
      "Epoch 025/050 | Loss 0.0017 | Win/lose count 6.5/3.0 (3.5)\n",
      "Epoch 026/050 | Loss 0.0012 | Win/lose count 19.0/2.0 (17.0)\n",
      "Epoch 027/050 | Loss 0.0020 | Win/lose count 17.0/7.0 (10.0)\n",
      "Epoch 028/050 | Loss 0.0027 | Win/lose count 9.0/7.0 (2.0)\n",
      "Epoch 029/050 | Loss 0.0019 | Win/lose count 10.0/3.0 (7.0)\n",
      "Epoch 030/050 | Loss 0.0021 | Win/lose count 13.5/2.0 (11.5)\n",
      "Epoch 031/050 | Loss 0.0015 | Win/lose count 8.0/3.0 (5.0)\n",
      "Epoch 032/050 | Loss 0.0055 | Win/lose count 9.5/1.0 (8.5)\n",
      "Epoch 033/050 | Loss 0.0016 | Win/lose count 12.5/4.0 (8.5)\n",
      "Epoch 034/050 | Loss 0.0026 | Win/lose count 14.5/3.0 (11.5)\n",
      "Epoch 035/050 | Loss 0.0021 | Win/lose count 8.0/1.0 (7.0)\n",
      "Epoch 036/050 | Loss 0.0021 | Win/lose count 17.5/1.0 (16.5)\n",
      "Epoch 037/050 | Loss 0.0019 | Win/lose count 10.0/3.0 (7.0)\n",
      "Epoch 038/050 | Loss 0.0013 | Win/lose count 20.5/4.0 (16.5)\n",
      "Epoch 039/050 | Loss 0.0578 | Win/lose count 8.5/3.0 (5.5)\n",
      "Epoch 040/050 | Loss 0.0025 | Win/lose count 8.0/2.0 (6.0)\n",
      "Epoch 041/050 | Loss 0.0044 | Win/lose count 8.5/3.0 (5.5)\n",
      "Epoch 042/050 | Loss 0.0498 | Win/lose count 10.5/4.0 (6.5)\n",
      "Epoch 043/050 | Loss 0.0031 | Win/lose count 22.5/6.0 (16.5)\n",
      "Epoch 044/050 | Loss 0.0517 | Win/lose count 23.0/2.0 (21.0)\n",
      "Epoch 045/050 | Loss 0.0017 | Win/lose count 12.5/2.0 (10.5)\n",
      "Epoch 046/050 | Loss 0.0588 | Win/lose count 4.0/2.0 (2.0)\n",
      "Epoch 047/050 | Loss 0.0012 | Win/lose count 10.5/0 (10.5)\n",
      "Epoch 048/050 | Loss 0.0014 | Win/lose count 13.5/1.0 (12.5)\n",
      "Epoch 049/050 | Loss 0.0020 | Win/lose count 9.5/2.0 (7.5)\n"
     ]
    },
    {
     "data": {
      "text/html": [
       "<video alt=\"test\" controls>\n",
       "                <source src=\"data:video/mp4;base64,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\" type=\"video/mp4\" />\n",
       "             </video>"
      ],
      "text/plain": [
       "<IPython.core.display.HTML object>"
      ]
     },
     "execution_count": 12,
     "metadata": {},
     "output_type": "execute_result"
    }
   ],
   "source": [
    "env = Environment(grid_size=size, max_time=T, temperature=0.3)\n",
    "agent = DQN_FC(size, lr=.1, epsilon = 0.1, memory_size=2000, batch_size = 32)\n",
    "train(agent, env, epochs_train, prefix='fc_train')\n",
    "HTML(display_videos('fc_train10.mp4'))"
   ]
  },
  {
   "cell_type": "markdown",
   "metadata": {},
   "source": [
    "***\n",
    "***\n",
    "__Question 8__ Implement the DQN training algorithm using a CNN (for example, 2 convolutional layers and one final fully connected layer)."
   ]
  },
  {
   "cell_type": "code",
   "execution_count": 13,
   "metadata": {},
   "outputs": [],
   "source": [
    "class DQN_CNN(DQN):\n",
    "    def __init__(self, *args,lr=0.1,**kwargs):\n",
    "        super(DQN_CNN, self).__init__(*args,**kwargs)\n",
    "        \n",
    "        f = 50\n",
    "        fc2 = 200\n",
    "        fc3 = 500\n",
    "        output_size = 4\n",
    "        model = Sequential([\n",
    "            Conv2D(filters=16, kernel_size=(2,2), activation='relu', input_shape=(5, 5, self.n_state), data_format='channels_last'),\n",
    "            Conv2D(filters=32, kernel_size=(2,2), activation='relu'),\n",
    "            keras.layers.Flatten(),\n",
    "            Dense(256, activation = 'relu'),\n",
    "            Dense(output_size)\n",
    "        ])\n",
    "        model.compile(sgd(lr=lr, decay=1e-4, momentum=0.0), \"mse\")\n",
    "        self.model = model"
   ]
  },
  {
   "cell_type": "code",
   "execution_count": 14,
   "metadata": {
    "scrolled": true
   },
   "outputs": [
    {
     "name": "stdout",
     "output_type": "stream",
     "text": [
      "Epoch 000/050 | Loss 0.0034 | Win/lose count 2.5/4.0 (-1.5)\n",
      "Epoch 001/050 | Loss 0.0059 | Win/lose count 3.0/7.0 (-4.0)\n",
      "Epoch 002/050 | Loss 0.0051 | Win/lose count 3.5/4.0 (-0.5)\n",
      "Epoch 003/050 | Loss 0.0040 | Win/lose count 4.0/3.0 (1.0)\n",
      "Epoch 004/050 | Loss 0.0007 | Win/lose count 1.5/1.0 (0.5)\n",
      "Epoch 005/050 | Loss 0.0034 | Win/lose count 4.5/3.0 (1.5)\n",
      "Epoch 006/050 | Loss 0.0545 | Win/lose count 3.0/5.0 (-2.0)\n",
      "Epoch 007/050 | Loss 0.0027 | Win/lose count 5.5/1.0 (4.5)\n",
      "Epoch 008/050 | Loss 0.0013 | Win/lose count 7.0/3.0 (4.0)\n",
      "Epoch 009/050 | Loss 0.0043 | Win/lose count 8.0/5.0 (3.0)\n",
      "Epoch 010/050 | Loss 0.0006 | Win/lose count 7.5/6.0 (1.5)\n",
      "Epoch 011/050 | Loss 0.0454 | Win/lose count 6.0/1.0 (5.0)\n",
      "Epoch 012/050 | Loss 0.0020 | Win/lose count 5.0/0 (5.0)\n",
      "Epoch 013/050 | Loss 0.0050 | Win/lose count 5.5/3.0 (2.5)\n",
      "Epoch 014/050 | Loss 0.0017 | Win/lose count 7.0/4.0 (3.0)\n",
      "Epoch 015/050 | Loss 0.0484 | Win/lose count 9.5/0 (9.5)\n",
      "Epoch 016/050 | Loss 0.0019 | Win/lose count 9.5/1.0 (8.5)\n",
      "Epoch 017/050 | Loss 0.0032 | Win/lose count 6.5/5.0 (1.5)\n",
      "Epoch 018/050 | Loss 0.0024 | Win/lose count 13.5/4.0 (9.5)\n",
      "Epoch 019/050 | Loss 0.0013 | Win/lose count 9.5/1.0 (8.5)\n",
      "Epoch 020/050 | Loss 0.0020 | Win/lose count 7.5/5.0 (2.5)\n",
      "Epoch 021/050 | Loss 0.0051 | Win/lose count 9.5/2.0 (7.5)\n",
      "Epoch 022/050 | Loss 0.0019 | Win/lose count 11.5/3.0 (8.5)\n",
      "Epoch 023/050 | Loss 0.0023 | Win/lose count 12.5/4.0 (8.5)\n",
      "Epoch 024/050 | Loss 0.0030 | Win/lose count 3.0/4.0 (-1.0)\n",
      "Epoch 025/050 | Loss 0.0032 | Win/lose count 3.0/2.0 (1.0)\n",
      "Epoch 026/050 | Loss 0.0020 | Win/lose count 15.0/2.0 (13.0)\n",
      "Epoch 027/050 | Loss 0.0033 | Win/lose count 17.5/3.0 (14.5)\n",
      "Epoch 028/050 | Loss 0.0032 | Win/lose count 14.5/2.0 (12.5)\n",
      "Epoch 029/050 | Loss 0.0023 | Win/lose count 13.5/2.0 (11.5)\n",
      "Epoch 030/050 | Loss 0.0050 | Win/lose count 16.0/3.0 (13.0)\n",
      "Epoch 031/050 | Loss 0.0029 | Win/lose count 9.5/5.0 (4.5)\n",
      "Epoch 032/050 | Loss 0.0023 | Win/lose count 23.0/2.0 (21.0)\n",
      "Epoch 033/050 | Loss 0.0023 | Win/lose count 16.0/5.0 (11.0)\n",
      "Epoch 034/050 | Loss 0.0602 | Win/lose count 19.0/7.0 (12.0)\n",
      "Epoch 035/050 | Loss 0.0015 | Win/lose count 11.0/3.0 (8.0)\n",
      "Epoch 036/050 | Loss 0.0027 | Win/lose count 17.5/3.0 (14.5)\n",
      "Epoch 037/050 | Loss 0.0014 | Win/lose count 18.0/1.0 (17.0)\n",
      "Epoch 038/050 | Loss 0.0042 | Win/lose count 16.5/5.0 (11.5)\n",
      "Epoch 039/050 | Loss 0.0044 | Win/lose count 7.0/2.0 (5.0)\n",
      "Epoch 040/050 | Loss 0.0305 | Win/lose count 12.0/2.0 (10.0)\n",
      "Epoch 041/050 | Loss 0.0023 | Win/lose count 17.5/3.0 (14.5)\n",
      "Epoch 042/050 | Loss 0.0028 | Win/lose count 10.0/3.0 (7.0)\n",
      "Epoch 043/050 | Loss 0.0022 | Win/lose count 17.0/1.0 (16.0)\n",
      "Epoch 044/050 | Loss 0.0525 | Win/lose count 9.0/1.0 (8.0)\n",
      "Epoch 045/050 | Loss 0.0479 | Win/lose count 22.5/4.0 (18.5)\n",
      "Epoch 046/050 | Loss 0.0527 | Win/lose count 13.5/1.0 (12.5)\n",
      "Epoch 047/050 | Loss 0.0024 | Win/lose count 19.5/2.0 (17.5)\n",
      "Epoch 048/050 | Loss 0.0018 | Win/lose count 14.5/5.0 (9.5)\n",
      "Epoch 049/050 | Loss 0.0015 | Win/lose count 19.5/5.0 (14.5)\n"
     ]
    },
    {
     "data": {
      "text/html": [
       "<video alt=\"test\" controls>\n",
       "                <source src=\"data:video/mp4;base64,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\" type=\"video/mp4\" />\n",
       "             </video>"
      ],
      "text/plain": [
       "<IPython.core.display.HTML object>"
      ]
     },
     "execution_count": 14,
     "metadata": {},
     "output_type": "execute_result"
    }
   ],
   "source": [
    "env = Environment(grid_size=size, max_time=T, temperature=0.3)\n",
    "agent = DQN_CNN(size, lr=.1, epsilon = 0.1, memory_size=2000, batch_size = 32)\n",
    "train(agent,env,epochs_train,prefix='cnn_train')\n",
    "HTML(display_videos('cnn_train10.mp4'))"
   ]
  },
  {
   "cell_type": "markdown",
   "metadata": {},
   "source": [
    "***\n",
    "***\n",
    "__Question 9__ Test both algorithms and compare their performances. Which issue(s) do you observe? Observe also different behaviors by changing the temperature."
   ]
  },
  {
   "cell_type": "markdown",
   "metadata": {},
   "source": [
    "###### Temperature = 0.1"
   ]
  },
  {
   "cell_type": "code",
   "execution_count": 15,
   "metadata": {},
   "outputs": [
    {
     "name": "stdout",
     "output_type": "stream",
     "text": [
      "Test of the CNN\n",
      "Win/lose count 4.0/0. Average score (4.0)\n",
      "Win/lose count 2.5/1.0. Average score (2.75)\n",
      "Win/lose count 2.5/1.0. Average score (2.3333333333333335)\n",
      "Win/lose count 0/0. Average score (1.75)\n",
      "Win/lose count 2.0/1.0. Average score (1.6)\n",
      "Win/lose count 0.5/1.0. Average score (1.25)\n",
      "Win/lose count 0.5/1.0. Average score (1.0)\n",
      "Win/lose count 1.5/0. Average score (1.0625)\n",
      "Win/lose count 2.5/1.0. Average score (1.1111111111111112)\n",
      "Win/lose count 1.5/0. Average score (1.15)\n",
      "Final score: 1.15\n",
      "Test of the FC\n",
      "Win/lose count 2.5/1.0. Average score (1.5)\n",
      "Win/lose count 3.5/1.0. Average score (2.0)\n",
      "Win/lose count 1.0/0. Average score (1.6666666666666667)\n",
      "Win/lose count 1.5/0. Average score (1.625)\n",
      "Win/lose count 0.5/0. Average score (1.4)\n",
      "Win/lose count 2.0/0. Average score (1.5)\n",
      "Win/lose count 0/2.0. Average score (1.0)\n",
      "Win/lose count 1.5/0. Average score (1.0625)\n",
      "Win/lose count 0.5/0. Average score (1.0)\n",
      "Win/lose count 3.5/2.0. Average score (1.05)\n",
      "Final score: 1.05\n"
     ]
    }
   ],
   "source": [
    "env = Environment(grid_size=size, max_time=T,temperature=0.1)\n",
    "agent_cnn = DQN_CNN(size, lr=.1, epsilon = 0.1, memory_size=2000, batch_size = 32)\n",
    "agent_cnn.load(name_weights='cnn_trainmodel.h5',name_model='cnn_trainmodel.json')\n",
    "\n",
    "agent_fc = DQN_FC(size, lr=.1, epsilon = 0.1, memory_size=2000, batch_size = 32)\n",
    "agent_fc.load(name_weights='fc_trainmodel.h5',name_model='fc_trainmodel.json')\n",
    "print('Test of the CNN')\n",
    "test(agent_cnn,env,epochs_test,prefix='cnn_test')\n",
    "print('Test of the FC')\n",
    "test(agent_fc,env,epochs_test,prefix='fc_test')"
   ]
  },
  {
   "cell_type": "markdown",
   "metadata": {},
   "source": [
    "###### Temperature 0.3"
   ]
  },
  {
   "cell_type": "code",
   "execution_count": 16,
   "metadata": {},
   "outputs": [
    {
     "name": "stdout",
     "output_type": "stream",
     "text": [
      "Test of the CNN\n",
      "Win/lose count 15.5/4.0. Average score (11.5)\n",
      "Win/lose count 3.5/0. Average score (7.5)\n",
      "Win/lose count 6.0/1.0. Average score (6.666666666666667)\n",
      "Win/lose count 9.5/5.0. Average score (6.125)\n",
      "Win/lose count 6.5/7.0. Average score (4.8)\n",
      "Win/lose count 4.0/2.0. Average score (4.333333333333333)\n",
      "Win/lose count 2.5/0. Average score (4.071428571428571)\n",
      "Win/lose count 1.0/2.0. Average score (3.4375)\n",
      "Win/lose count 7.5/3.0. Average score (3.5555555555555554)\n",
      "Win/lose count 7.5/0. Average score (3.95)\n",
      "Final score: 3.95\n",
      "Test of the FC\n",
      "Win/lose count 13.0/4.0. Average score (9.0)\n",
      "Win/lose count 7.0/5.0. Average score (5.5)\n",
      "Win/lose count 4.5/0. Average score (5.166666666666667)\n",
      "Win/lose count 4.0/2.0. Average score (4.375)\n",
      "Win/lose count 5.5/1.0. Average score (4.4)\n",
      "Win/lose count 2.0/3.0. Average score (3.5)\n",
      "Win/lose count 5.0/0. Average score (3.7142857142857144)\n",
      "Win/lose count 2.5/4.0. Average score (3.0625)\n",
      "Win/lose count 5.0/4.0. Average score (2.8333333333333335)\n",
      "Win/lose count 3.5/1.0. Average score (2.8)\n",
      "Final score: 2.8\n"
     ]
    }
   ],
   "source": [
    "env = Environment(grid_size=size, max_time=T,temperature=0.3)\n",
    "agent_cnn = DQN_CNN(size, lr=.1, epsilon = 0.1, memory_size=2000, batch_size = 32)\n",
    "agent_cnn.load(name_weights='cnn_trainmodel.h5',name_model='cnn_trainmodel.json')\n",
    "\n",
    "agent_fc = DQN_FC(size, lr=.1, epsilon = 0.1, memory_size=2000, batch_size = 32)\n",
    "agent_fc.load(name_weights='fc_trainmodel.h5',name_model='fc_trainmodel.json')\n",
    "print('Test of the CNN')\n",
    "test(agent_cnn,env,epochs_test,prefix='cnn_test')\n",
    "print('Test of the FC')\n",
    "test(agent_fc,env,epochs_test,prefix='fc_test')"
   ]
  },
  {
   "cell_type": "markdown",
   "metadata": {},
   "source": [
    "###### Temperature 0.5"
   ]
  },
  {
   "cell_type": "code",
   "execution_count": 17,
   "metadata": {},
   "outputs": [
    {
     "name": "stdout",
     "output_type": "stream",
     "text": [
      "Test of the CNN\n",
      "Win/lose count 26.5/2.0. Average score (24.5)\n",
      "Win/lose count 12.5/4.0. Average score (16.5)\n",
      "Win/lose count 7.0/2.0. Average score (12.666666666666666)\n",
      "Win/lose count 9.0/2.0. Average score (11.25)\n",
      "Win/lose count 9.0/5.0. Average score (9.8)\n",
      "Win/lose count 7.0/1.0. Average score (9.166666666666666)\n",
      "Win/lose count 17.0/1.0. Average score (10.142857142857142)\n",
      "Win/lose count 18.0/6.0. Average score (10.375)\n",
      "Win/lose count 17.5/2.0. Average score (10.944444444444445)\n",
      "Win/lose count 7.5/3.0. Average score (10.3)\n",
      "Final score: 10.3\n",
      "Test of the FC\n",
      "Win/lose count 15.0/1.0. Average score (14.0)\n",
      "Win/lose count 11.0/0. Average score (12.5)\n",
      "Win/lose count 7.0/2.0. Average score (10.0)\n",
      "Win/lose count 5.0/1.0. Average score (8.5)\n",
      "Win/lose count 4.5/2.0. Average score (7.3)\n",
      "Win/lose count 5.5/4.0. Average score (6.333333333333333)\n",
      "Win/lose count 3.5/6.0. Average score (5.071428571428571)\n",
      "Win/lose count 4.0/2.0. Average score (4.6875)\n",
      "Win/lose count 11.0/4.0. Average score (4.944444444444445)\n",
      "Win/lose count 5.5/6.0. Average score (4.4)\n",
      "Final score: 4.4\n"
     ]
    }
   ],
   "source": [
    "env = Environment(grid_size=size, max_time=T,temperature=0.5)\n",
    "agent_cnn = DQN_CNN(size, lr=.1, epsilon = 0.1, memory_size=2000, batch_size = 32)\n",
    "agent_cnn.load(name_weights='cnn_trainmodel.h5',name_model='cnn_trainmodel.json')\n",
    "\n",
    "agent_fc = DQN_FC(size, lr=.1, epsilon = 0.1, memory_size=2000, batch_size = 32)\n",
    "agent_fc.load(name_weights='fc_trainmodel.h5',name_model='fc_trainmodel.json')\n",
    "print('Test of the CNN')\n",
    "test(agent_cnn,env,epochs_test,prefix='cnn_test')\n",
    "print('Test of the FC')\n",
    "test(agent_fc,env,epochs_test,prefix='fc_test')"
   ]
  },
  {
   "cell_type": "markdown",
   "metadata": {},
   "source": [
    "> We can observe that CNN is better than FC.\n",
    "\n",
    "> If we observe the behaviour of each agent we can notice that they do not explore a lot the environement and often go back on place they have already seen."
   ]
  },
  {
   "cell_type": "markdown",
   "metadata": {},
   "source": [
    "***\n",
    "\n",
    "The algorithm tends to not explore the map which can be an issue. We propose two ideas in order to encourage exploration:\n",
    "1. Incorporating a decreasing $\\epsilon$-greedy exploration. You can use the method ```set_epsilon```\n",
    "2. Append via the environment a new state that describes if a cell has been visited or not\n",
    "\n",
    "***\n",
    "__Question 10__ Design a new ```train_explore``` function and environment class ```EnvironmentExploring``` to tackle the issue of exploration.\n",
    "\n"
   ]
  },
  {
   "cell_type": "code",
   "execution_count": 1,
   "metadata": {},
   "outputs": [],
   "source": [
    "def train_explore(agent,env,epoch,prefix='', epsilon=0.1, decay=0.99):\n",
    "    # Number of won games\n",
    "    score = 0\n",
    "    loss = 0\n",
    "    \n",
    "    for e in range(epoch):\n",
    "        # At each epoch, we restart to a fresh game and get the initial state\n",
    "        state = env.reset()\n",
    "        # This assumes that the games will terminate\n",
    "        game_over = False\n",
    "\n",
    "        win = 0\n",
    "        lose = 0\n",
    "\n",
    "        while not game_over:\n",
    "            # The agent performs an action\n",
    "            action = agent.act(state)\n",
    "            agent.epsilon *= decay\n",
    "            # Apply an action to the environment, get the next state, the reward\n",
    "            # and if the games end\n",
    "            prev_state = state\n",
    "            state, reward, game_over = env.act(action, train=True)\n",
    "\n",
    "            # Update the counters\n",
    "            if reward > 0:\n",
    "                win = win + reward\n",
    "            if reward < 0:\n",
    "                lose = lose - reward\n",
    "\n",
    "            # Apply the reinforcement strategy\n",
    "            loss = agent.reinforce(prev_state, state,  action, reward, game_over)\n",
    "\n",
    "        # Save as a mp4\n",
    "        if e % 10 == 0:\n",
    "            env.draw(prefix+str(e))\n",
    "\n",
    "        # Update stats\n",
    "        score += win-lose\n",
    "\n",
    "        print(\"Epoch {:03d}/{:03d} | Loss {:.4f} | Win/lose count {}/{} ({})\"\n",
    "              .format(e, epoch, loss, win, lose, win-lose))\n",
    "        agent.save(name_weights=prefix+'model.h5',name_model=prefix+'model.json')\n",
    "        \n",
    "        \n",
    "class EnvironmentExploring(object):\n",
    "    \n",
    "    def __init__(self, grid_size=10, max_time=500, temperature=0.1):\n",
    "        grid_size = grid_size+4\n",
    "        self.grid_size = grid_size\n",
    "        self.max_time = max_time\n",
    "        self.temperature = temperature\n",
    "\n",
    "        #board on which one plays\n",
    "        self.board = np.zeros((grid_size,grid_size))\n",
    "        self.position = np.zeros((grid_size,grid_size))\n",
    "        self.malus_position = np.zeros((grid_size,grid_size))\n",
    "        \n",
    "        # coordinate of the cat\n",
    "        self.x = 0\n",
    "        self.y = 1\n",
    "\n",
    "        # self time\n",
    "        self.t = 0\n",
    "\n",
    "        self.scale=16\n",
    "\n",
    "        self.to_draw = np.zeros((max_time+2, grid_size*self.scale, grid_size*self.scale, 3))\n",
    "\n",
    "\n",
    "    def draw(self,e):\n",
    "        skvideo.io.vwrite(str(e) + '.mp4', self.to_draw)\n",
    "\n",
    "    def get_frame(self,t):\n",
    "        b = np.zeros((self.grid_size,self.grid_size,3))+128\n",
    "        b[self.board>0,0] = 256\n",
    "        b[self.board < 0, 2] = 256\n",
    "        b[self.x,self.y,:]=256\n",
    "        b[-2:,:,:]=0\n",
    "        b[:,-2:,:]=0\n",
    "        b[:2,:,:]=0\n",
    "        b[:,:2,:]=0\n",
    "        \n",
    "        b =  cv2.resize(b, None, fx=self.scale, fy=self.scale, interpolation=cv2.INTER_NEAREST)\n",
    "\n",
    "        self.to_draw[t,:,:,:]=b\n",
    "\n",
    "\n",
    "    def act(self, action, train=False):\n",
    "        \"\"\"This function returns the new state, reward and decides if the\n",
    "        game ends.\"\"\"\n",
    "\n",
    "        self.get_frame(int(self.t))\n",
    "\n",
    "        self.position = np.zeros((self.grid_size, self.grid_size))\n",
    "\n",
    "        self.position[0:2,:]= -1\n",
    "        self.position[:,0:2] = -1\n",
    "        self.position[-2:, :] = -1\n",
    "        self.position[-2:, :] = -1\n",
    "\n",
    "        self.malus_position[self.x, self.y] += 0.1\n",
    "        \n",
    "        self.position[self.x, self.y] = 1\n",
    "        if action == 0:\n",
    "            if self.x == self.grid_size-3:\n",
    "                self.x = self.x-1\n",
    "            else:\n",
    "                self.x = self.x + 1\n",
    "        elif action == 1:\n",
    "            if self.x == 2:\n",
    "                self.x = self.x+1\n",
    "            else:\n",
    "                self.x = self.x-1\n",
    "        elif action == 2:\n",
    "            if self.y == self.grid_size - 3:\n",
    "                self.y = self.y - 1\n",
    "            else:\n",
    "                self.y = self.y + 1\n",
    "        elif action == 3:\n",
    "            if self.y == 2:\n",
    "                self.y = self.y + 1\n",
    "            else:\n",
    "                self.y = self.y - 1\n",
    "        else:\n",
    "            RuntimeError('Error: action not recognized')\n",
    "\n",
    "        self.t = self.t + 1\n",
    "        reward = self.board[self.x, self.y]\n",
    "        if train:\n",
    "            reward -= self.malus_position[self.x, self.y]\n",
    "        self.board[self.x, self.y] = 0\n",
    "        game_over = self.t > self.max_time\n",
    "        state = np.concatenate(\n",
    "            (self.board.reshape(self.grid_size, self.grid_size,1),\n",
    "             self.position.reshape(self.grid_size, self.grid_size,1),\n",
    "             self.malus_position.reshape(self.grid_size, self.grid_size,1)\n",
    "            ),axis=2)\n",
    "        state = state[self.x-2:self.x+3,self.y-2:self.y+3,:]\n",
    "\n",
    "        return state, reward, game_over\n",
    "\n",
    "    def reset(self):\n",
    "        \"\"\"This function resets the game and returns the initial state\"\"\"\n",
    "\n",
    "        self.x = np.random.randint(3, self.grid_size-3, size=1)[0]\n",
    "        self.y = np.random.randint(3, self.grid_size-3, size=1)[0]\n",
    "\n",
    "\n",
    "        bonus = 0.5*np.random.binomial(1,self.temperature,size=self.grid_size**2)\n",
    "        bonus = bonus.reshape(self.grid_size,self.grid_size)\n",
    "\n",
    "        malus = -1.0*np.random.binomial(1,self.temperature,size=self.grid_size**2)\n",
    "        malus = malus.reshape(self.grid_size, self.grid_size)\n",
    "\n",
    "        self.to_draw = np.zeros((self.max_time+2, self.grid_size*self.scale, self.grid_size*self.scale, 3))\n",
    "\n",
    "\n",
    "        malus[bonus>0]=0\n",
    "\n",
    "        self.board = bonus + malus\n",
    "\n",
    "        self.position = np.zeros((self.grid_size, self.grid_size))\n",
    "        self.position[0:2,:]= -1\n",
    "        self.position[:,0:2] = -1\n",
    "        self.position[-2:, :] = -1\n",
    "        self.position[-2:, :] = -1\n",
    "        self.board[self.x,self.y] = 0\n",
    "        self.t = 0\n",
    "        \n",
    "        self.malus_position = np.zeros((self.grid_size,self.grid_size))\n",
    "        \n",
    "        state = np.concatenate(\n",
    "            (self.board.reshape(self.grid_size, self.grid_size,1),\n",
    "             self.position.reshape(self.grid_size, self.grid_size,1),\n",
    "             self.malus_position.reshape(self.grid_size, self.grid_size,1)\n",
    "            ),axis=2)\n",
    "\n",
    "        state = state[self.x - 2:self.x + 3, self.y - 2:self.y + 3, :]\n",
    "        return state\n",
    "    "
   ]
  },
  {
   "cell_type": "code",
   "execution_count": 19,
   "metadata": {},
   "outputs": [
    {
     "name": "stdout",
     "output_type": "stream",
     "text": [
      "Epoch 000/050 | Loss 0.0218 | Win/lose count 9.0/46.90000000000003 (-37.90000000000003)\n",
      "Epoch 001/050 | Loss 0.0150 | Win/lose count 13.5/33.40000000000001 (-19.900000000000013)\n",
      "Epoch 002/050 | Loss 0.0164 | Win/lose count 18.5/25.899999999999988 (-7.399999999999988)\n",
      "Epoch 003/050 | Loss 0.0209 | Win/lose count 20.5/18.899999999999995 (1.600000000000005)\n",
      "Epoch 004/050 | Loss 0.0269 | Win/lose count 19.5/29.60000000000002 (-10.10000000000002)\n",
      "Epoch 005/050 | Loss 0.0202 | Win/lose count 21.0/23.89999999999999 (-2.8999999999999915)\n",
      "Epoch 006/050 | Loss 0.0530 | Win/lose count 25.5/20.19999999999999 (5.300000000000011)\n",
      "Epoch 007/050 | Loss 0.0181 | Win/lose count 28.5/13.999999999999977 (14.500000000000023)\n",
      "Epoch 008/050 | Loss 0.0114 | Win/lose count 23.0/21.599999999999994 (1.4000000000000057)\n",
      "Epoch 009/050 | Loss 0.0201 | Win/lose count 26.0/13.699999999999989 (12.300000000000011)\n",
      "Epoch 010/050 | Loss 0.0307 | Win/lose count 24.5/16.099999999999984 (8.400000000000016)\n",
      "Epoch 011/050 | Loss 0.0178 | Win/lose count 23.5/12.399999999999983 (11.100000000000017)\n",
      "Epoch 012/050 | Loss 0.0210 | Win/lose count 18.5/15.999999999999975 (2.500000000000025)\n",
      "Epoch 013/050 | Loss 0.0162 | Win/lose count 18.0/17.7 (0.3000000000000007)\n",
      "Epoch 014/050 | Loss 0.0239 | Win/lose count 17.0/19.499999999999996 (-2.4999999999999964)\n",
      "Epoch 015/050 | Loss 0.0192 | Win/lose count 24.0/14.699999999999983 (9.300000000000017)\n",
      "Epoch 016/050 | Loss 0.0177 | Win/lose count 24.0/16.09999999999998 (7.90000000000002)\n",
      "Epoch 017/050 | Loss 0.0216 | Win/lose count 20.5/17.199999999999985 (3.300000000000015)\n",
      "Epoch 018/050 | Loss 0.0298 | Win/lose count 24.0/13.199999999999983 (10.800000000000017)\n",
      "Epoch 019/050 | Loss 0.0275 | Win/lose count 21.0/17.899999999999984 (3.1000000000000156)\n",
      "Epoch 020/050 | Loss 0.0480 | Win/lose count 17.5/36.80000000000002 (-19.30000000000002)\n",
      "Epoch 021/050 | Loss 0.0229 | Win/lose count 29.0/16.899999999999988 (12.100000000000012)\n",
      "Epoch 022/050 | Loss 0.0384 | Win/lose count 23.5/17.99999999999999 (5.500000000000011)\n",
      "Epoch 023/050 | Loss 0.0948 | Win/lose count 23.5/16.899999999999977 (6.600000000000023)\n",
      "Epoch 024/050 | Loss 0.0228 | Win/lose count 24.5/18.799999999999983 (5.700000000000017)\n",
      "Epoch 025/050 | Loss 0.0339 | Win/lose count 20.0/20.29999999999999 (-0.29999999999999005)\n",
      "Epoch 026/050 | Loss 0.0250 | Win/lose count 24.0/15.299999999999976 (8.700000000000024)\n",
      "Epoch 027/050 | Loss 0.0351 | Win/lose count 24.0/15.099999999999985 (8.900000000000015)\n",
      "Epoch 028/050 | Loss 0.0305 | Win/lose count 22.5/21.99999999999998 (0.5000000000000213)\n",
      "Epoch 029/050 | Loss 0.0300 | Win/lose count 23.0/18.99999999999999 (4.000000000000011)\n",
      "Epoch 030/050 | Loss 0.0293 | Win/lose count 25.0/20.19999999999998 (4.8000000000000185)\n",
      "Epoch 031/050 | Loss 0.0525 | Win/lose count 24.0/18.09999999999998 (5.90000000000002)\n",
      "Epoch 032/050 | Loss 0.0411 | Win/lose count 22.5/19.499999999999996 (3.0000000000000036)\n",
      "Epoch 033/050 | Loss 0.0386 | Win/lose count 21.0/24.20000000000001 (-3.20000000000001)\n",
      "Epoch 034/050 | Loss 0.0248 | Win/lose count 19.5/23.400000000000006 (-3.9000000000000057)\n",
      "Epoch 035/050 | Loss 0.0466 | Win/lose count 28.0/19.49999999999999 (8.50000000000001)\n",
      "Epoch 036/050 | Loss 0.0499 | Win/lose count 24.0/15.399999999999986 (8.600000000000014)\n",
      "Epoch 037/050 | Loss 0.0286 | Win/lose count 24.0/19.50000000000001 (4.499999999999989)\n",
      "Epoch 038/050 | Loss 0.0355 | Win/lose count 29.0/12.499999999999993 (16.500000000000007)\n",
      "Epoch 039/050 | Loss 0.0175 | Win/lose count 26.0/20.70000000000001 (5.29999999999999)\n",
      "Epoch 040/050 | Loss 0.0266 | Win/lose count 21.0/16.19999999999998 (4.8000000000000185)\n",
      "Epoch 041/050 | Loss 0.0475 | Win/lose count 20.5/20.800000000000004 (-0.30000000000000426)\n",
      "Epoch 042/050 | Loss 0.0445 | Win/lose count 23.0/24.100000000000016 (-1.1000000000000156)\n",
      "Epoch 043/050 | Loss 0.0499 | Win/lose count 19.0/27.200000000000035 (-8.200000000000035)\n",
      "Epoch 044/050 | Loss 0.0399 | Win/lose count 19.0/23.89999999999999 (-4.8999999999999915)\n",
      "Epoch 045/050 | Loss 0.0469 | Win/lose count 22.5/14.499999999999979 (8.000000000000021)\n",
      "Epoch 046/050 | Loss 0.0261 | Win/lose count 23.5/18.199999999999992 (5.300000000000008)\n",
      "Epoch 047/050 | Loss 0.0421 | Win/lose count 25.5/19.499999999999982 (6.000000000000018)\n",
      "Epoch 048/050 | Loss 0.0278 | Win/lose count 23.0/17.199999999999978 (5.800000000000022)\n",
      "Epoch 049/050 | Loss 0.0409 | Win/lose count 22.5/11.999999999999986 (10.500000000000014)\n"
     ]
    },
    {
     "data": {
      "text/html": [
       "<video alt=\"test\" controls>\n",
       "                <source src=\"data:video/mp4;base64,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\" type=\"video/mp4\" />\n",
       "             </video>"
      ],
      "text/plain": [
       "<IPython.core.display.HTML object>"
      ]
     },
     "execution_count": 19,
     "metadata": {},
     "output_type": "execute_result"
    }
   ],
   "source": [
    "# Training\n",
    "env = EnvironmentExploring(grid_size=size, max_time=T, temperature=0.3)\n",
    "agent = DQN_CNN(size, lr=.1, epsilon = 0.1, memory_size=2000, batch_size = 32,n_state=3)\n",
    "train_explore(agent, env, epochs_train, prefix='cnn_train_explore')\n",
    "HTML(display_videos('cnn_train_explore10.mp4'))"
   ]
  },
  {
   "cell_type": "code",
   "execution_count": 21,
   "metadata": {},
   "outputs": [
    {
     "name": "stdout",
     "output_type": "stream",
     "text": [
      "Win/lose count 22.0/11.0. Average score (11.0)\n",
      "Win/lose count 28.0/3.0. Average score (18.0)\n",
      "Win/lose count 25.0/7.0. Average score (18.0)\n",
      "Win/lose count 26.5/5.0. Average score (18.875)\n",
      "Win/lose count 31.5/4.0. Average score (20.6)\n",
      "Win/lose count 26.0/8.0. Average score (20.166666666666668)\n",
      "Win/lose count 25.0/15.0. Average score (18.714285714285715)\n",
      "Win/lose count 20.0/11.0. Average score (17.5)\n",
      "Win/lose count 28.0/8.0. Average score (17.77777777777778)\n",
      "Win/lose count 28.0/10.0. Average score (17.8)\n",
      "Win/lose count 20.5/4.0. Average score (17.681818181818183)\n",
      "Final score: 17.681818181818183\n"
     ]
    },
    {
     "data": {
      "text/html": [
       "<video alt=\"test\" controls>\n",
       "                <source src=\"data:video/mp4;base64,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\" type=\"video/mp4\" />\n",
       "             </video>"
      ],
      "text/plain": [
       "<IPython.core.display.HTML object>"
      ]
     },
     "execution_count": 21,
     "metadata": {},
     "output_type": "execute_result"
    }
   ],
   "source": [
    "# Evaluation\n",
    "test(agent,env,epochs_test+1,prefix='cnn_test_explore')\n",
    "HTML(display_videos('cnn_test_explore10.mp4'))"
   ]
  },
  {
   "cell_type": "markdown",
   "metadata": {},
   "source": [
    "***\n",
    "***\n",
    "__BONUS question__ Use the expert DQN from the previous question to generate some winning games. Train a model that mimicks its behavior. Compare the performances."
   ]
  },
  {
   "cell_type": "markdown",
   "metadata": {},
   "source": [
    "***"
   ]
  }
 ],
 "metadata": {
  "kernelspec": {
   "display_name": "supelec",
   "language": "python",
   "name": "supelec"
  },
  "language_info": {
   "codemirror_mode": {
    "name": "ipython",
    "version": 3
   },
   "file_extension": ".py",
   "mimetype": "text/x-python",
   "name": "python",
   "nbconvert_exporter": "python",
   "pygments_lexer": "ipython3",
   "version": "3.6.5"
  }
 },
 "nbformat": 4,
 "nbformat_minor": 2
}
