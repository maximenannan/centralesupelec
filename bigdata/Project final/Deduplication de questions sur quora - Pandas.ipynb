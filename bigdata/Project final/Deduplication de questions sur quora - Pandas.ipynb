{
 "cells": [
  {
   "cell_type": "markdown",
   "metadata": {},
   "source": [
    "# Etude \n",
    "\n",
    "Ce notebook a pour objectif de tester les perfomances de pandas sur un dataset de questions posées sur quora. \n",
    "Le but est de dédupliquer les questions.\n",
    "\n"
   ]
  },
  {
   "cell_type": "code",
   "execution_count": 1,
   "metadata": {},
   "outputs": [],
   "source": [
    "import pandas as pd\n",
    "import numpy as np\n",
    "import time\n",
    "import nltk"
   ]
  },
  {
   "cell_type": "code",
   "execution_count": 2,
   "metadata": {},
   "outputs": [],
   "source": [
    "import matplotlib.pyplot as plt\n",
    "%matplotlib inline"
   ]
  },
  {
   "cell_type": "markdown",
   "metadata": {},
   "source": [
    "## 1. Importation des données\n",
    "\n",
    "Pour tester les perfomances de pandas à la lecture de données nous allons simplement charger le dataframe en memoire\n"
   ]
  },
  {
   "cell_type": "code",
   "execution_count": 3,
   "metadata": {},
   "outputs": [
    {
     "name": "stdout",
     "output_type": "stream",
     "text": [
      "CPU times: user 1.03 s, sys: 125 ms, total: 1.15 s\n",
      "Wall time: 1.15 s\n"
     ]
    }
   ],
   "source": [
    "%%time\n",
    "df_full = pd.read_csv('./data/train.csv')"
   ]
  },
  {
   "cell_type": "code",
   "execution_count": 32,
   "metadata": {},
   "outputs": [
    {
     "data": {
      "text/plain": [
       "(404290, 6)"
      ]
     },
     "execution_count": 32,
     "metadata": {},
     "output_type": "execute_result"
    }
   ],
   "source": [
    "df_full.shape"
   ]
  },
  {
   "cell_type": "code",
   "execution_count": 4,
   "metadata": {},
   "outputs": [],
   "source": [
    "df_dict = {\n",
    "    'full': df_full,\n",
    "    '1000': df_full[:1000].copy(),\n",
    "    '10000': df_full[:10000].copy(),\n",
    "    '100000': df_full[:100000].copy(),\n",
    "}"
   ]
  },
  {
   "cell_type": "markdown",
   "metadata": {},
   "source": [
    "## 2. Séparation des données en un ensemble d'apprentissage et un ensemble de validation.\n"
   ]
  },
  {
   "cell_type": "code",
   "execution_count": 5,
   "metadata": {},
   "outputs": [],
   "source": [
    "from sklearn.model_selection import train_test_split\n",
    "taux_sep = 0.7\n",
    "def split_dataset(df, taux_sep):\n",
    "    return train_test_split(df, train_size=taux_sep)"
   ]
  },
  {
   "cell_type": "markdown",
   "metadata": {},
   "source": [
    "## 3. Nettoyage des données\n",
    "\n",
    "Pour le nettoyage des données nous allons:\n",
    "- supprimer les questions vides\n",
    "- retirer les stopwords\n",
    "- passer le text en minuscule\n",
    "- tokenizer les questions"
   ]
  },
  {
   "cell_type": "code",
   "execution_count": 6,
   "metadata": {},
   "outputs": [],
   "source": [
    "from nltk.corpus import stopwords\n",
    "\n",
    "\n",
    "english_stopwords = set(stopwords.words(\"english\"))\n",
    "\n",
    "def clean_string(string: str) -> str:\n",
    "    \"\"\"\n",
    "    Remove stopwords and stem the string\n",
    "    \"\"\"\n",
    "    if isinstance(string, str):\n",
    "        string = string.lower()\n",
    "        words = []\n",
    "        for word in string.split():\n",
    "            if word not in english_stopwords:\n",
    "                words.append(word)\n",
    "        return words\n",
    "\n",
    "def clean_dataframe(df):\n",
    "    # Questions en minuscule\n",
    "    for column in ['question1', 'question2']:\n",
    "        df[column] = df[column].apply(clean_string)\n",
    "    # Suppression des NaN\n",
    "    df = df.dropna()\n",
    "    return df"
   ]
  },
  {
   "cell_type": "code",
   "execution_count": 7,
   "metadata": {},
   "outputs": [],
   "source": [
    "cleaning_time = {}\n",
    "df_cleaned = {}\n",
    "for key, df in df_dict.items():\n",
    "    st = time.time()\n",
    "    df_cleaned[key] = clean_dataframe(df)\n",
    "    cleaning_time[key] = time.time() - st"
   ]
  },
  {
   "cell_type": "code",
   "execution_count": 31,
   "metadata": {},
   "outputs": [
    {
     "data": {
      "text/plain": [
       "{'full': 3.7794349193573,\n",
       " '1000': 0.00979471206665039,\n",
       " '10000': 0.07298994064331055,\n",
       " '100000': 0.9923090934753418}"
      ]
     },
     "execution_count": 31,
     "metadata": {},
     "output_type": "execute_result"
    }
   ],
   "source": [
    "cleaning_time"
   ]
  },
  {
   "cell_type": "markdown",
   "metadata": {},
   "source": [
    "## 3.  Représentation des données.\n",
    "\n",
    "Pour la representation des données nous avons:\n",
    "- Compter le nombre de mots communs entre les questions\n",
    "- Compter le nombre de mots communs entre les questions pondérés par l'idf"
   ]
  },
  {
   "cell_type": "code",
   "execution_count": 8,
   "metadata": {},
   "outputs": [],
   "source": [
    "from collections import defaultdict"
   ]
  },
  {
   "cell_type": "code",
   "execution_count": 9,
   "metadata": {},
   "outputs": [],
   "source": [
    "def get_weight(count, eps=10000, min_count=2):\n",
    "    if count < min_count:\n",
    "        return 0\n",
    "    else:\n",
    "        return 1 / (count + eps)"
   ]
  },
  {
   "cell_type": "code",
   "execution_count": 10,
   "metadata": {},
   "outputs": [],
   "source": [
    "def compute_idf(df):\n",
    "    questions = df[['qid1','question1']].rename(columns={'qid1': 'qid','question1':'question'})\\\n",
    "    .append(df[['qid2','question2']].rename(columns={'qid2': 'qid','question2':'question'})).drop_duplicates('qid')\\\n",
    "    .question.values\n",
    "\n",
    "    counts = defaultdict(lambda : 0)\n",
    "\n",
    "    for question in questions:\n",
    "        if question:\n",
    "            for word in question:\n",
    "                counts[word] += 1\n",
    "\n",
    "    idf = {word: get_weight(count) for word, count in counts.items()}\n",
    "\n",
    "    return idf\n",
    "\n"
   ]
  },
  {
   "cell_type": "code",
   "execution_count": 11,
   "metadata": {},
   "outputs": [],
   "source": [
    "idf_time = {}\n",
    "idf_dict = {}\n",
    "for key, df in df_dict.items():\n",
    "    st = time.time()\n",
    "    idf_dict[key] = compute_idf(df)\n",
    "    idf_time[key] = time.time() - st"
   ]
  },
  {
   "cell_type": "code",
   "execution_count": 12,
   "metadata": {},
   "outputs": [
    {
     "data": {
      "text/plain": [
       "{'full': 1.245344877243042,\n",
       " '1000': 0.007905006408691406,\n",
       " '10000': 0.04187798500061035,\n",
       " '100000': 0.33655309677124023}"
      ]
     },
     "execution_count": 12,
     "metadata": {},
     "output_type": "execute_result"
    }
   ],
   "source": [
    "idf_time"
   ]
  },
  {
   "cell_type": "code",
   "execution_count": 13,
   "metadata": {},
   "outputs": [],
   "source": [
    "from nltk.corpus import stopwords\n",
    "\n",
    "def common_words(df):\n",
    "    def common_words(row):\n",
    "        question1 = row['question1']\n",
    "        question2 = row['question2']\n",
    "        common_words = 0\n",
    "        number_of_words = len(question1) + len(question2)\n",
    "        for word in question1:\n",
    "            if word in question2:\n",
    "                common_words += 1\n",
    "        return 2 * common_words / number_of_words\n",
    "    df['common_words'] = df.apply(common_words, axis='columns')\n",
    "    return df"
   ]
  },
  {
   "cell_type": "code",
   "execution_count": 14,
   "metadata": {},
   "outputs": [
    {
     "name": "stderr",
     "output_type": "stream",
     "text": [
      "/Users/mnannan/.virtualenvs/supelec/lib/python3.6/site-packages/ipykernel_launcher.py:13: SettingWithCopyWarning: \n",
      "A value is trying to be set on a copy of a slice from a DataFrame.\n",
      "Try using .loc[row_indexer,col_indexer] = value instead\n",
      "\n",
      "See the caveats in the documentation: http://pandas.pydata.org/pandas-docs/stable/indexing.html#indexing-view-versus-copy\n",
      "  del sys.path[0]\n"
     ]
    }
   ],
   "source": [
    "df_common_words = {}\n",
    "common_words_time = {}\n",
    "for key, df in df_cleaned.items():\n",
    "    st = time.time()\n",
    "    df_common_words[key] = common_words(df)\n",
    "    common_words_time[key] = time.time() - st"
   ]
  },
  {
   "cell_type": "code",
   "execution_count": 15,
   "metadata": {},
   "outputs": [
    {
     "data": {
      "text/plain": [
       "{'full': 14.060517072677612,\n",
       " '1000': 0.03775477409362793,\n",
       " '10000': 0.34238195419311523,\n",
       " '100000': 3.386591911315918}"
      ]
     },
     "execution_count": 15,
     "metadata": {},
     "output_type": "execute_result"
    }
   ],
   "source": [
    "common_words_time"
   ]
  },
  {
   "cell_type": "code",
   "execution_count": 16,
   "metadata": {},
   "outputs": [],
   "source": [
    "def common_words_idf_weighted(df, idf):\n",
    "    def common_words_idf_weighted(row):\n",
    "        question1 = row['question1']\n",
    "        question2 = row['question2']\n",
    "        common_words_weighted = 0\n",
    "        questions_weights = 0\n",
    "        for word in question1:\n",
    "            idf_weight = idf[word]\n",
    "            if word in question2:\n",
    "                common_words_weighted += idf_weight\n",
    "            questions_weights += idf_weight\n",
    "        for word in question2:\n",
    "            questions_weights += idf[word]\n",
    "        if questions_weights > 0:\n",
    "            return 2 * common_words_weighted / questions_weights\n",
    "        else:\n",
    "            return 0\n",
    "    df['common_words_idf_weighted'] = df.apply(common_words_idf_weighted, axis='columns')\n",
    "    return df"
   ]
  },
  {
   "cell_type": "code",
   "execution_count": 17,
   "metadata": {},
   "outputs": [
    {
     "name": "stderr",
     "output_type": "stream",
     "text": [
      "/Users/mnannan/.virtualenvs/supelec/lib/python3.6/site-packages/ipykernel_launcher.py:18: SettingWithCopyWarning: \n",
      "A value is trying to be set on a copy of a slice from a DataFrame.\n",
      "Try using .loc[row_indexer,col_indexer] = value instead\n",
      "\n",
      "See the caveats in the documentation: http://pandas.pydata.org/pandas-docs/stable/indexing.html#indexing-view-versus-copy\n"
     ]
    }
   ],
   "source": [
    "df_common_words_idf = {}\n",
    "common_words_idf_time = {}\n",
    "for key, df in df_common_words.items():\n",
    "    idf = idf_dict[key]\n",
    "    st = time.time()\n",
    "    df_common_words_idf[key] = common_words_idf_weighted(df, idf)\n",
    "    common_words_idf_time[key] = time.time() - st"
   ]
  },
  {
   "cell_type": "code",
   "execution_count": 18,
   "metadata": {},
   "outputs": [
    {
     "data": {
      "text/plain": [
       "{'full': 14.994139909744263,\n",
       " '1000': 0.03665304183959961,\n",
       " '10000': 0.3632466793060303,\n",
       " '100000': 3.593071937561035}"
      ]
     },
     "execution_count": 18,
     "metadata": {},
     "output_type": "execute_result"
    }
   ],
   "source": [
    "common_words_idf_time"
   ]
  },
  {
   "cell_type": "markdown",
   "metadata": {},
   "source": [
    "###### Processing pour les models"
   ]
  },
  {
   "cell_type": "code",
   "execution_count": 19,
   "metadata": {},
   "outputs": [
    {
     "name": "stderr",
     "output_type": "stream",
     "text": [
      "/Users/mnannan/.virtualenvs/supelec/lib/python3.6/site-packages/sklearn/model_selection/_split.py:2179: FutureWarning: From version 0.21, test_size will always complement train_size unless both are specified.\n",
      "  FutureWarning)\n"
     ]
    }
   ],
   "source": [
    "train_dict = {}\n",
    "test_dict = {}\n",
    "x_train_dict = {}\n",
    "x_test_dict = {}\n",
    "y_train_dict = {}\n",
    "y_test_dict = {}\n",
    "\n",
    "selected_columns = ['common_words', 'common_words_idf_weighted']\n",
    "\n",
    "for key, df in df_common_words_idf.items():\n",
    "    train, test = split_dataset(df, taux_sep)\n",
    "    train_dict[key] = train.dropna()\n",
    "    test_dict[key] = test.dropna()\n",
    "\n",
    "    x_train_dict[key] = train_dict[key][selected_columns]\n",
    "\n",
    "    x_test_dict[key] = test_dict[key][selected_columns]\n",
    "\n",
    "    y_train_dict[key] = train_dict[key].is_duplicate\n",
    "    y_test_dict[key] = test_dict[key].is_duplicate"
   ]
  },
  {
   "cell_type": "markdown",
   "metadata": {},
   "source": [
    "## 4.  Apprentissage et performance\n",
    "\n",
    "Pour tester les perfomances des modeles nous allons entrainer une regression logistic, un random forest et un arbre de decision"
   ]
  },
  {
   "cell_type": "code",
   "execution_count": 20,
   "metadata": {},
   "outputs": [],
   "source": [
    "from sklearn.metrics import accuracy_score"
   ]
  },
  {
   "cell_type": "markdown",
   "metadata": {},
   "source": [
    "### Regression Logistique "
   ]
  },
  {
   "cell_type": "code",
   "execution_count": 21,
   "metadata": {},
   "outputs": [],
   "source": [
    "from sklearn.linear_model import LogisticRegression\n",
    "\n"
   ]
  },
  {
   "cell_type": "code",
   "execution_count": 22,
   "metadata": {},
   "outputs": [
    {
     "name": "stderr",
     "output_type": "stream",
     "text": [
      "/Users/mnannan/.virtualenvs/supelec/lib/python3.6/site-packages/sklearn/linear_model/logistic.py:433: FutureWarning: Default solver will be changed to 'lbfgs' in 0.22. Specify a solver to silence this warning.\n",
      "  FutureWarning)\n",
      "/Users/mnannan/.virtualenvs/supelec/lib/python3.6/site-packages/sklearn/linear_model/logistic.py:433: FutureWarning: Default solver will be changed to 'lbfgs' in 0.22. Specify a solver to silence this warning.\n",
      "  FutureWarning)\n",
      "/Users/mnannan/.virtualenvs/supelec/lib/python3.6/site-packages/sklearn/linear_model/logistic.py:433: FutureWarning: Default solver will be changed to 'lbfgs' in 0.22. Specify a solver to silence this warning.\n",
      "  FutureWarning)\n",
      "/Users/mnannan/.virtualenvs/supelec/lib/python3.6/site-packages/sklearn/linear_model/logistic.py:433: FutureWarning: Default solver will be changed to 'lbfgs' in 0.22. Specify a solver to silence this warning.\n",
      "  FutureWarning)\n"
     ]
    }
   ],
   "source": [
    "lr_dict = {}\n",
    "\n",
    "lr_time = {}\n",
    "\n",
    "for key in train_dict:\n",
    "    st = time.time()\n",
    "    lr_dict[key] = LogisticRegression() \n",
    "    lr_dict[key].fit(x_train_dict[key], y_train_dict[key])\n",
    "    lr_time[key] = time.time() - st"
   ]
  },
  {
   "cell_type": "code",
   "execution_count": 23,
   "metadata": {},
   "outputs": [
    {
     "data": {
      "text/plain": [
       "{'full': 0.29720115661621094,\n",
       " '1000': 0.0024499893188476562,\n",
       " '10000': 0.00648808479309082,\n",
       " '100000': 0.061994075775146484}"
      ]
     },
     "execution_count": 23,
     "metadata": {},
     "output_type": "execute_result"
    }
   ],
   "source": [
    "lr_time"
   ]
  },
  {
   "cell_type": "code",
   "execution_count": 24,
   "metadata": {},
   "outputs": [
    {
     "name": "stdout",
     "output_type": "stream",
     "text": [
      "full 0.6707643853009804\n",
      "1000 0.7133333333333334\n",
      "10000 0.6756666666666666\n",
      "100000 0.6802333333333334\n"
     ]
    }
   ],
   "source": [
    "for key in train_dict:\n",
    "    y_pred = lr_dict[key].predict(x_test_dict[key])\n",
    "    print(key, accuracy_score(y_pred, y_test_dict[key]))"
   ]
  },
  {
   "cell_type": "markdown",
   "metadata": {},
   "source": [
    "### Arbres de décision"
   ]
  },
  {
   "cell_type": "code",
   "execution_count": 25,
   "metadata": {},
   "outputs": [],
   "source": [
    "from sklearn import tree\n",
    "\n",
    "\n",
    "dt_dict = {}\n",
    "\n",
    "dt_time = {}\n",
    "\n",
    "for key in train_dict:\n",
    "    st = time.time()\n",
    "    dt_dict[key] = tree.DecisionTreeClassifier()\n",
    "    dt_dict[key].fit(x_train_dict[key], y_train_dict[key])\n",
    "    dt_time[key] = time.time() - st"
   ]
  },
  {
   "cell_type": "code",
   "execution_count": 26,
   "metadata": {},
   "outputs": [
    {
     "data": {
      "text/plain": [
       "{'full': 1.061352014541626,\n",
       " '1000': 0.0016529560089111328,\n",
       " '10000': 0.012163639068603516,\n",
       " '100000': 0.19474315643310547}"
      ]
     },
     "execution_count": 26,
     "metadata": {},
     "output_type": "execute_result"
    }
   ],
   "source": [
    "dt_time"
   ]
  },
  {
   "cell_type": "code",
   "execution_count": 27,
   "metadata": {},
   "outputs": [
    {
     "name": "stdout",
     "output_type": "stream",
     "text": [
      "full 0.7066627091114464\n",
      "1000 0.6733333333333333\n",
      "10000 0.688\n",
      "100000 0.7007666666666666\n"
     ]
    }
   ],
   "source": [
    "for key in train_dict:\n",
    "    y_pred = dt_dict[key].predict(x_test_dict[key])\n",
    "    print(key, accuracy_score(y_pred, y_test_dict[key]))"
   ]
  },
  {
   "cell_type": "markdown",
   "metadata": {},
   "source": [
    "### Random Forests\n"
   ]
  },
  {
   "cell_type": "code",
   "execution_count": 28,
   "metadata": {},
   "outputs": [
    {
     "name": "stderr",
     "output_type": "stream",
     "text": [
      "/Users/mnannan/.virtualenvs/supelec/lib/python3.6/site-packages/sklearn/ensemble/forest.py:246: FutureWarning: The default value of n_estimators will change from 10 in version 0.20 to 100 in 0.22.\n",
      "  \"10 in version 0.20 to 100 in 0.22.\", FutureWarning)\n",
      "/Users/mnannan/.virtualenvs/supelec/lib/python3.6/site-packages/sklearn/ensemble/forest.py:246: FutureWarning: The default value of n_estimators will change from 10 in version 0.20 to 100 in 0.22.\n",
      "  \"10 in version 0.20 to 100 in 0.22.\", FutureWarning)\n",
      "/Users/mnannan/.virtualenvs/supelec/lib/python3.6/site-packages/sklearn/ensemble/forest.py:246: FutureWarning: The default value of n_estimators will change from 10 in version 0.20 to 100 in 0.22.\n",
      "  \"10 in version 0.20 to 100 in 0.22.\", FutureWarning)\n",
      "/Users/mnannan/.virtualenvs/supelec/lib/python3.6/site-packages/sklearn/ensemble/forest.py:246: FutureWarning: The default value of n_estimators will change from 10 in version 0.20 to 100 in 0.22.\n",
      "  \"10 in version 0.20 to 100 in 0.22.\", FutureWarning)\n"
     ]
    }
   ],
   "source": [
    "from sklearn.ensemble import RandomForestClassifier\n",
    "\n",
    "rf_dict = {}\n",
    "\n",
    "rf_time = {}\n",
    "\n",
    "for key in train_dict:\n",
    "    st = time.time()\n",
    "    rf_dict[key] = RandomForestClassifier()\n",
    "    rf_dict[key].fit(x_train_dict[key], y_train_dict[key])\n",
    "    rf_time[key] = time.time() - st"
   ]
  },
  {
   "cell_type": "code",
   "execution_count": 29,
   "metadata": {},
   "outputs": [
    {
     "data": {
      "text/plain": [
       "{'full': 5.3011391162872314,\n",
       " '1000': 0.011728763580322266,\n",
       " '10000': 0.05720186233520508,\n",
       " '100000': 0.835341215133667}"
      ]
     },
     "execution_count": 29,
     "metadata": {},
     "output_type": "execute_result"
    }
   ],
   "source": [
    "rf_time"
   ]
  },
  {
   "cell_type": "code",
   "execution_count": 30,
   "metadata": {},
   "outputs": [
    {
     "name": "stdout",
     "output_type": "stream",
     "text": [
      "full 0.7080313636251205\n",
      "1000 0.6966666666666667\n",
      "10000 0.6876666666666666\n",
      "100000 0.7030333333333333\n"
     ]
    }
   ],
   "source": [
    "for key in train_dict:\n",
    "    y_pred = rf_dict[key].predict(x_test_dict[key])\n",
    "    print(key, accuracy_score(y_pred, y_test_dict[key]))"
   ]
  },
  {
   "cell_type": "code",
   "execution_count": null,
   "metadata": {},
   "outputs": [],
   "source": []
  }
 ],
 "metadata": {
  "kernelspec": {
   "display_name": "supelec",
   "language": "python",
   "name": "supelec"
  },
  "language_info": {
   "codemirror_mode": {
    "name": "ipython",
    "version": 3
   },
   "file_extension": ".py",
   "mimetype": "text/x-python",
   "name": "python",
   "nbconvert_exporter": "python",
   "pygments_lexer": "ipython3",
   "version": "3.6.5"
  }
 },
 "nbformat": 4,
 "nbformat_minor": 2
}
